{
 "cells": [
  {
   "cell_type": "code",
   "execution_count": 12,
   "metadata": {
    "collapsed": false,
    "scrolled": true
   },
   "outputs": [
    {
     "name": "stdout",
     "output_type": "stream",
     "text": [
      "Warning encountered, dealing with it...\n"
     ]
    },
    {
     "data": {
      "text/plain": [
       "<bound method BaseWebDriver.quit of <splinter.driver.webdriver.firefox.WebDriver object at 0x7fe371c72ef0>>"
      ]
     },
     "execution_count": 12,
     "metadata": {},
     "output_type": "execute_result"
    }
   ],
   "source": [
    "from splinter import Browser\n",
    "\n",
    "# Create instance of Browser object\n",
    "b = Browser()\n",
    "url = [\"http://getprivate.eu/\"]\n",
    "# List of glype proxy sites to be visited\n",
    "#url = [\"http://192.168.54.17/glype\", \"www.blackhost.xyz/glype/\",\n",
    "#       \"proxy.lelouet.fr\", \"https://secure.cogsoz.com/proxy/\",\n",
    "#       \"http://samstevenm.net/prox/\", \"https://muadness.com/proxy/\",\n",
    "#       \"http://www.radiocarb.com/p/\", \"http://proxy.rimmer.su/\",\n",
    "#       \"https://awssl.com/\", \"http://securefor.com\", \"https://moka4.com/\",\n",
    "#       \"https://webproxy.stealthy.co/, \"http://bvpn.win/\", \"http://www.emuby.com/\",\n",
    "#       \"https://sitenable.com/\", \"http://getprivate.eu/\"]\n",
    "for site in url:\n",
    "    # Visit the site using Browser\n",
    "    b.visit(site)\n",
    "\n",
    "    # Find and fill the textbox then find the submit button and 'click' it\n",
    "    b.find_by_id('input').fill('www.whatismyip.com')\n",
    "    b.find_by_css('input.button').first.click()\n",
    "    \n",
    "\n",
    "    # Deal with SSL warning page if it appears\n",
    "    sslWarningPage = b.find_by_text('Warning!')\n",
    "    if sslWarningPage is not None:\n",
    "        print('Warning encountered, dealing with it...')\n",
    "\n",
    "        continueButton = b.find_by_css('input')[1]\n",
    "        continueButton.click()\n",
    "b.quit\n"
   ]
  }
 ],
 "metadata": {
  "kernelspec": {
   "display_name": "Python 3",
   "language": "python",
   "name": "python3"
  },
  "language_info": {
   "codemirror_mode": {
    "name": "ipython",
    "version": 3
   },
   "file_extension": ".py",
   "mimetype": "text/x-python",
   "name": "python",
   "nbconvert_exporter": "python",
   "pygments_lexer": "ipython3",
   "version": "3.5.2"
  }
 },
 "nbformat": 4,
 "nbformat_minor": 0
}
